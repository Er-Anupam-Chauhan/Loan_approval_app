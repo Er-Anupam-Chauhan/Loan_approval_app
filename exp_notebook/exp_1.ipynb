{
 "cells": [
  {
   "cell_type": "code",
   "execution_count": null,
   "id": "f34fd98c",
   "metadata": {},
   "outputs": [],
   "source": [
    "# https://www.kaggle.com/datasets/abdelrahmantarek22/predict-loan-approval-problem"
   ]
  },
  {
   "cell_type": "code",
   "execution_count": 530,
   "id": "71244c95",
   "metadata": {},
   "outputs": [],
   "source": [
    "# Data gathering"
   ]
  },
  {
   "cell_type": "code",
   "execution_count": 774,
   "id": "616de4b9",
   "metadata": {},
   "outputs": [],
   "source": [
    "import pandas as pd\n",
    "import numpy as np\n",
    "import seaborn as sns\n",
    "from sklearn.model_selection import train_test_split\n",
    "from imblearn.over_sampling import SMOTE\n",
    "from sklearn.linear_model import LogisticRegression\n",
    "from sklearn.tree import DecisionTreeClassifier\n",
    "from sklearn.ensemble import RandomForestClassifier\n",
    "from sklearn.preprocessing import StandardScaler\n",
    "from sklearn.svm import SVC\n",
    "from sklearn.metrics import accuracy_score, f1_score, recall_score, precision_score"
   ]
  },
  {
   "cell_type": "code",
   "execution_count": 775,
   "id": "517ce82c",
   "metadata": {},
   "outputs": [],
   "source": [
    "df = pd.read_csv(r\"D:\\Projects\\Loan_approval_classification\\data\\train_u6lujuX_CVtuZ9i.csv\")"
   ]
  },
  {
   "cell_type": "code",
   "execution_count": 776,
   "id": "42bd7237",
   "metadata": {},
   "outputs": [
    {
     "data": {
      "text/html": [
       "<div>\n",
       "<style scoped>\n",
       "    .dataframe tbody tr th:only-of-type {\n",
       "        vertical-align: middle;\n",
       "    }\n",
       "\n",
       "    .dataframe tbody tr th {\n",
       "        vertical-align: top;\n",
       "    }\n",
       "\n",
       "    .dataframe thead th {\n",
       "        text-align: right;\n",
       "    }\n",
       "</style>\n",
       "<table border=\"1\" class=\"dataframe\">\n",
       "  <thead>\n",
       "    <tr style=\"text-align: right;\">\n",
       "      <th></th>\n",
       "      <th>Loan_ID</th>\n",
       "      <th>Gender</th>\n",
       "      <th>Married</th>\n",
       "      <th>Dependents</th>\n",
       "      <th>Education</th>\n",
       "      <th>Self_Employed</th>\n",
       "      <th>ApplicantIncome</th>\n",
       "      <th>CoapplicantIncome</th>\n",
       "      <th>LoanAmount</th>\n",
       "      <th>Loan_Amount_Term</th>\n",
       "      <th>Credit_History</th>\n",
       "      <th>Property_Area</th>\n",
       "      <th>Loan_Status</th>\n",
       "    </tr>\n",
       "  </thead>\n",
       "  <tbody>\n",
       "    <tr>\n",
       "      <th>0</th>\n",
       "      <td>LP001002</td>\n",
       "      <td>Male</td>\n",
       "      <td>No</td>\n",
       "      <td>0</td>\n",
       "      <td>Graduate</td>\n",
       "      <td>No</td>\n",
       "      <td>5849</td>\n",
       "      <td>0.0</td>\n",
       "      <td>NaN</td>\n",
       "      <td>360.0</td>\n",
       "      <td>1.0</td>\n",
       "      <td>Urban</td>\n",
       "      <td>Y</td>\n",
       "    </tr>\n",
       "    <tr>\n",
       "      <th>1</th>\n",
       "      <td>LP001003</td>\n",
       "      <td>Male</td>\n",
       "      <td>Yes</td>\n",
       "      <td>1</td>\n",
       "      <td>Graduate</td>\n",
       "      <td>No</td>\n",
       "      <td>4583</td>\n",
       "      <td>1508.0</td>\n",
       "      <td>128.0</td>\n",
       "      <td>360.0</td>\n",
       "      <td>1.0</td>\n",
       "      <td>Rural</td>\n",
       "      <td>N</td>\n",
       "    </tr>\n",
       "    <tr>\n",
       "      <th>2</th>\n",
       "      <td>LP001005</td>\n",
       "      <td>Male</td>\n",
       "      <td>Yes</td>\n",
       "      <td>0</td>\n",
       "      <td>Graduate</td>\n",
       "      <td>Yes</td>\n",
       "      <td>3000</td>\n",
       "      <td>0.0</td>\n",
       "      <td>66.0</td>\n",
       "      <td>360.0</td>\n",
       "      <td>1.0</td>\n",
       "      <td>Urban</td>\n",
       "      <td>Y</td>\n",
       "    </tr>\n",
       "    <tr>\n",
       "      <th>3</th>\n",
       "      <td>LP001006</td>\n",
       "      <td>Male</td>\n",
       "      <td>Yes</td>\n",
       "      <td>0</td>\n",
       "      <td>Not Graduate</td>\n",
       "      <td>No</td>\n",
       "      <td>2583</td>\n",
       "      <td>2358.0</td>\n",
       "      <td>120.0</td>\n",
       "      <td>360.0</td>\n",
       "      <td>1.0</td>\n",
       "      <td>Urban</td>\n",
       "      <td>Y</td>\n",
       "    </tr>\n",
       "    <tr>\n",
       "      <th>4</th>\n",
       "      <td>LP001008</td>\n",
       "      <td>Male</td>\n",
       "      <td>No</td>\n",
       "      <td>0</td>\n",
       "      <td>Graduate</td>\n",
       "      <td>No</td>\n",
       "      <td>6000</td>\n",
       "      <td>0.0</td>\n",
       "      <td>141.0</td>\n",
       "      <td>360.0</td>\n",
       "      <td>1.0</td>\n",
       "      <td>Urban</td>\n",
       "      <td>Y</td>\n",
       "    </tr>\n",
       "    <tr>\n",
       "      <th>...</th>\n",
       "      <td>...</td>\n",
       "      <td>...</td>\n",
       "      <td>...</td>\n",
       "      <td>...</td>\n",
       "      <td>...</td>\n",
       "      <td>...</td>\n",
       "      <td>...</td>\n",
       "      <td>...</td>\n",
       "      <td>...</td>\n",
       "      <td>...</td>\n",
       "      <td>...</td>\n",
       "      <td>...</td>\n",
       "      <td>...</td>\n",
       "    </tr>\n",
       "    <tr>\n",
       "      <th>609</th>\n",
       "      <td>LP002978</td>\n",
       "      <td>Female</td>\n",
       "      <td>No</td>\n",
       "      <td>0</td>\n",
       "      <td>Graduate</td>\n",
       "      <td>No</td>\n",
       "      <td>2900</td>\n",
       "      <td>0.0</td>\n",
       "      <td>71.0</td>\n",
       "      <td>360.0</td>\n",
       "      <td>1.0</td>\n",
       "      <td>Rural</td>\n",
       "      <td>Y</td>\n",
       "    </tr>\n",
       "    <tr>\n",
       "      <th>610</th>\n",
       "      <td>LP002979</td>\n",
       "      <td>Male</td>\n",
       "      <td>Yes</td>\n",
       "      <td>3+</td>\n",
       "      <td>Graduate</td>\n",
       "      <td>No</td>\n",
       "      <td>4106</td>\n",
       "      <td>0.0</td>\n",
       "      <td>40.0</td>\n",
       "      <td>180.0</td>\n",
       "      <td>1.0</td>\n",
       "      <td>Rural</td>\n",
       "      <td>Y</td>\n",
       "    </tr>\n",
       "    <tr>\n",
       "      <th>611</th>\n",
       "      <td>LP002983</td>\n",
       "      <td>Male</td>\n",
       "      <td>Yes</td>\n",
       "      <td>1</td>\n",
       "      <td>Graduate</td>\n",
       "      <td>No</td>\n",
       "      <td>8072</td>\n",
       "      <td>240.0</td>\n",
       "      <td>253.0</td>\n",
       "      <td>360.0</td>\n",
       "      <td>1.0</td>\n",
       "      <td>Urban</td>\n",
       "      <td>Y</td>\n",
       "    </tr>\n",
       "    <tr>\n",
       "      <th>612</th>\n",
       "      <td>LP002984</td>\n",
       "      <td>Male</td>\n",
       "      <td>Yes</td>\n",
       "      <td>2</td>\n",
       "      <td>Graduate</td>\n",
       "      <td>No</td>\n",
       "      <td>7583</td>\n",
       "      <td>0.0</td>\n",
       "      <td>187.0</td>\n",
       "      <td>360.0</td>\n",
       "      <td>1.0</td>\n",
       "      <td>Urban</td>\n",
       "      <td>Y</td>\n",
       "    </tr>\n",
       "    <tr>\n",
       "      <th>613</th>\n",
       "      <td>LP002990</td>\n",
       "      <td>Female</td>\n",
       "      <td>No</td>\n",
       "      <td>0</td>\n",
       "      <td>Graduate</td>\n",
       "      <td>Yes</td>\n",
       "      <td>4583</td>\n",
       "      <td>0.0</td>\n",
       "      <td>133.0</td>\n",
       "      <td>360.0</td>\n",
       "      <td>0.0</td>\n",
       "      <td>Semiurban</td>\n",
       "      <td>N</td>\n",
       "    </tr>\n",
       "  </tbody>\n",
       "</table>\n",
       "<p>614 rows × 13 columns</p>\n",
       "</div>"
      ],
      "text/plain": [
       "      Loan_ID  Gender Married Dependents     Education Self_Employed  \\\n",
       "0    LP001002    Male      No          0      Graduate            No   \n",
       "1    LP001003    Male     Yes          1      Graduate            No   \n",
       "2    LP001005    Male     Yes          0      Graduate           Yes   \n",
       "3    LP001006    Male     Yes          0  Not Graduate            No   \n",
       "4    LP001008    Male      No          0      Graduate            No   \n",
       "..        ...     ...     ...        ...           ...           ...   \n",
       "609  LP002978  Female      No          0      Graduate            No   \n",
       "610  LP002979    Male     Yes         3+      Graduate            No   \n",
       "611  LP002983    Male     Yes          1      Graduate            No   \n",
       "612  LP002984    Male     Yes          2      Graduate            No   \n",
       "613  LP002990  Female      No          0      Graduate           Yes   \n",
       "\n",
       "     ApplicantIncome  CoapplicantIncome  LoanAmount  Loan_Amount_Term  \\\n",
       "0               5849                0.0         NaN             360.0   \n",
       "1               4583             1508.0       128.0             360.0   \n",
       "2               3000                0.0        66.0             360.0   \n",
       "3               2583             2358.0       120.0             360.0   \n",
       "4               6000                0.0       141.0             360.0   \n",
       "..               ...                ...         ...               ...   \n",
       "609             2900                0.0        71.0             360.0   \n",
       "610             4106                0.0        40.0             180.0   \n",
       "611             8072              240.0       253.0             360.0   \n",
       "612             7583                0.0       187.0             360.0   \n",
       "613             4583                0.0       133.0             360.0   \n",
       "\n",
       "     Credit_History Property_Area Loan_Status  \n",
       "0               1.0         Urban           Y  \n",
       "1               1.0         Rural           N  \n",
       "2               1.0         Urban           Y  \n",
       "3               1.0         Urban           Y  \n",
       "4               1.0         Urban           Y  \n",
       "..              ...           ...         ...  \n",
       "609             1.0         Rural           Y  \n",
       "610             1.0         Rural           Y  \n",
       "611             1.0         Urban           Y  \n",
       "612             1.0         Urban           Y  \n",
       "613             0.0     Semiurban           N  \n",
       "\n",
       "[614 rows x 13 columns]"
      ]
     },
     "execution_count": 776,
     "metadata": {},
     "output_type": "execute_result"
    }
   ],
   "source": [
    "df"
   ]
  },
  {
   "cell_type": "code",
   "execution_count": 777,
   "id": "8b14ee4b",
   "metadata": {},
   "outputs": [
    {
     "data": {
      "text/plain": [
       "Y    422\n",
       "N    192\n",
       "Name: Loan_Status, dtype: int64"
      ]
     },
     "execution_count": 777,
     "metadata": {},
     "output_type": "execute_result"
    }
   ],
   "source": [
    "df['Loan_Status'].value_counts()"
   ]
  },
  {
   "cell_type": "code",
   "execution_count": null,
   "id": "00643794",
   "metadata": {},
   "outputs": [],
   "source": []
  },
  {
   "cell_type": "code",
   "execution_count": null,
   "id": "3e53c361",
   "metadata": {},
   "outputs": [],
   "source": []
  },
  {
   "cell_type": "code",
   "execution_count": 778,
   "id": "de288af4",
   "metadata": {},
   "outputs": [
    {
     "name": "stdout",
     "output_type": "stream",
     "text": [
      "<class 'pandas.core.frame.DataFrame'>\n",
      "RangeIndex: 614 entries, 0 to 613\n",
      "Data columns (total 13 columns):\n",
      " #   Column             Non-Null Count  Dtype  \n",
      "---  ------             --------------  -----  \n",
      " 0   Loan_ID            614 non-null    object \n",
      " 1   Gender             601 non-null    object \n",
      " 2   Married            611 non-null    object \n",
      " 3   Dependents         599 non-null    object \n",
      " 4   Education          614 non-null    object \n",
      " 5   Self_Employed      582 non-null    object \n",
      " 6   ApplicantIncome    614 non-null    int64  \n",
      " 7   CoapplicantIncome  614 non-null    float64\n",
      " 8   LoanAmount         592 non-null    float64\n",
      " 9   Loan_Amount_Term   600 non-null    float64\n",
      " 10  Credit_History     564 non-null    float64\n",
      " 11  Property_Area      614 non-null    object \n",
      " 12  Loan_Status        614 non-null    object \n",
      "dtypes: float64(4), int64(1), object(8)\n",
      "memory usage: 62.5+ KB\n"
     ]
    }
   ],
   "source": [
    "df.info()"
   ]
  },
  {
   "cell_type": "code",
   "execution_count": 779,
   "id": "305073c1",
   "metadata": {},
   "outputs": [],
   "source": [
    "# Data preprocessing"
   ]
  },
  {
   "cell_type": "code",
   "execution_count": 780,
   "id": "3eef9eb8",
   "metadata": {},
   "outputs": [
    {
     "data": {
      "text/plain": [
       "Loan_ID               0\n",
       "Gender               13\n",
       "Married               3\n",
       "Dependents           15\n",
       "Education             0\n",
       "Self_Employed        32\n",
       "ApplicantIncome       0\n",
       "CoapplicantIncome     0\n",
       "LoanAmount           22\n",
       "Loan_Amount_Term     14\n",
       "Credit_History       50\n",
       "Property_Area         0\n",
       "Loan_Status           0\n",
       "dtype: int64"
      ]
     },
     "execution_count": 780,
     "metadata": {},
     "output_type": "execute_result"
    }
   ],
   "source": [
    "df.isnull().sum()"
   ]
  },
  {
   "cell_type": "code",
   "execution_count": 781,
   "id": "af4d9976",
   "metadata": {},
   "outputs": [],
   "source": [
    "# def term_group(term):\n",
    "#     if term <= 60:\n",
    "#         return 'Short'\n",
    "#     elif term <= 180:\n",
    "#         return 'Medium'\n",
    "#     else:\n",
    "#         return 'Long'\n",
    "\n",
    "# df['Loan_Amount_Term'] = df['Loan_Amount_Term'].fillna(method='ffill')\n",
    "# df['Loan_Amount_Term'] = df['Loan_Amount_Term'].astype(int)\n",
    "# df['Loan_Amount_Term'] = df['Loan_Amount_Term'].apply(term_group)"
   ]
  },
  {
   "cell_type": "code",
   "execution_count": 782,
   "id": "e843421c",
   "metadata": {},
   "outputs": [],
   "source": [
    "# # replacing categorical variables with mode of the column and numerical with the mean\n",
    "# gender_mode = df['Gender'].mode()[0]\n",
    "# Married_mode = df['Married'].mode()[0]\n",
    "# Dependents_mode = df['Dependents'].mode()[0]\n",
    "# Self_Employed_mode = df['Self_Employed'].mode()[0]\n",
    "# LoanAmount_mean = df['LoanAmount'].mean().round(2)\n",
    "# Credit_History_mean = df['Credit_History'].mean().round(2)"
   ]
  },
  {
   "cell_type": "code",
   "execution_count": null,
   "id": "59c2f2bb",
   "metadata": {},
   "outputs": [],
   "source": []
  },
  {
   "cell_type": "code",
   "execution_count": 783,
   "id": "327c43de",
   "metadata": {},
   "outputs": [],
   "source": [
    "# df['Gender'] = df['Gender'].fillna(gender_mode)\n",
    "# df['Married'] = df['Married'].fillna(Married_mode)\n",
    "# df['Dependents'] = df['Dependents'].fillna(Dependents_mode)\n",
    "# df['Self_Employed'] = df['Self_Employed'].fillna(Self_Employed_mode)\n",
    "# df['LoanAmount'] = df['LoanAmount'].fillna(LoanAmount_mean)\n",
    "# df['Credit_History'] = df['Credit_History'].fillna(method='ffill')"
   ]
  },
  {
   "cell_type": "code",
   "execution_count": 784,
   "id": "43b24d87",
   "metadata": {},
   "outputs": [],
   "source": [
    "# df['Loan_Amount_Term'].unique()"
   ]
  },
  {
   "cell_type": "code",
   "execution_count": 785,
   "id": "2c2e89da",
   "metadata": {},
   "outputs": [],
   "source": [
    "# df.isnull().sum()"
   ]
  },
  {
   "cell_type": "code",
   "execution_count": 786,
   "id": "ec03ea31",
   "metadata": {},
   "outputs": [],
   "source": [
    "# Checking co-relation"
   ]
  },
  {
   "cell_type": "code",
   "execution_count": 787,
   "id": "41d47622",
   "metadata": {},
   "outputs": [],
   "source": [
    "# Fixing the data distributions"
   ]
  },
  {
   "cell_type": "code",
   "execution_count": 788,
   "id": "e3e74011",
   "metadata": {},
   "outputs": [],
   "source": [
    "# sns.histplot(df['LoanAmount'], kde=True)"
   ]
  },
  {
   "cell_type": "code",
   "execution_count": 789,
   "id": "35900622",
   "metadata": {},
   "outputs": [],
   "source": [
    "# df['LoanAmount'].skew()"
   ]
  },
  {
   "cell_type": "code",
   "execution_count": 790,
   "id": "37c66861",
   "metadata": {},
   "outputs": [],
   "source": [
    "# df['LoanAmount_log'] = np.log1p(df['LoanAmount'])\n",
    "# df['LoanAmount_log'].skew()"
   ]
  },
  {
   "cell_type": "code",
   "execution_count": 791,
   "id": "26588ec2",
   "metadata": {},
   "outputs": [],
   "source": [
    "# sns.histplot(df['LoanAmount_log'], kde=True)"
   ]
  },
  {
   "cell_type": "code",
   "execution_count": 792,
   "id": "d5a74f88",
   "metadata": {},
   "outputs": [],
   "source": [
    "# # Engineering new scaled down feature to prevent hallucination\n",
    "# scaler = StandardScaler()\n",
    "# df['Log_ApplicantIncome'] = np.log1p(df['ApplicantIncome'])\n",
    "# df['Scaled_Log_ApplicantIncome'] = scaler.fit_transform(df[['Log_ApplicantIncome']])"
   ]
  },
  {
   "cell_type": "code",
   "execution_count": 793,
   "id": "6255b3fc",
   "metadata": {},
   "outputs": [],
   "source": [
    "# sns.histplot(df['Scaled_Log_ApplicantIncome'], kde=True)"
   ]
  },
  {
   "cell_type": "code",
   "execution_count": null,
   "id": "66a3ce23",
   "metadata": {},
   "outputs": [],
   "source": []
  },
  {
   "cell_type": "code",
   "execution_count": null,
   "id": "5fe50e97",
   "metadata": {},
   "outputs": [],
   "source": []
  },
  {
   "cell_type": "code",
   "execution_count": 794,
   "id": "82efccf5",
   "metadata": {},
   "outputs": [],
   "source": [
    "# Encoding"
   ]
  },
  {
   "cell_type": "code",
   "execution_count": 676,
   "id": "7955217c",
   "metadata": {},
   "outputs": [],
   "source": [
    "# print(\"Gender unique values : \",df['Gender'].unique())\n",
    "# print(\"Married unique values : \",df['Married'].unique())\n",
    "# print(\"Dependents unique values : \",df['Dependents'].unique())\n",
    "# print(\"Self_Employed unique values : \",df['Self_Employed'].unique())\n",
    "# # print(\"LoanAmount unique values : \",df['LoanAmount'].unique())\n",
    "# print(\"Loan_Amount_Term unique values : \",df['Loan_Amount_Term'].unique())\n",
    "# print(\"Credit_History unique values : \",df['Credit_History'].unique())\n",
    "# print(\"Education unique values : \",df['Education'].unique())\n",
    "# print(\"Property_Area unique values : \",df['Property_Area'].unique())"
   ]
  },
  {
   "cell_type": "code",
   "execution_count": 642,
   "id": "a2a36bcf",
   "metadata": {},
   "outputs": [],
   "source": [
    "# # label encoding for ordinal categories\n",
    "# df['Loan_Status'] = df['Loan_Status'].replace({\"N\":0,\"Y\":1})\n",
    "# df['Dependents'] = df['Dependents'].replace({\"0\":0,\"1\":1,\"2\":2,\"3+\":3})\n",
    "# df['Married'] = df['Married'].replace({\"No\":0,\"Yes\":1})\n",
    "# df['Gender'] = df['Gender'].replace({\"Female\":0,\"Male\":1})\n",
    "# df['Self_Employed'] = df['Self_Employed'].replace({\"No\":0,\"Yes\":1})\n",
    "# df['Education'] = df['Education'].replace({\"Not Graduate\":0,\"Graduate\":1})\n",
    "\n",
    "# df['Credit_History'] = df['Credit_History'].astype(int)\n",
    "\n",
    "# # One hot encoding for  categories\n",
    "# df = pd.get_dummies(df, columns=['Property_Area'])\n",
    "# df = pd.get_dummies(df, columns=['Loan_Amount_Term'])"
   ]
  },
  {
   "cell_type": "code",
   "execution_count": 683,
   "id": "fa7dc354",
   "metadata": {},
   "outputs": [],
   "source": [
    "# df"
   ]
  },
  {
   "cell_type": "code",
   "execution_count": 682,
   "id": "65c3a593",
   "metadata": {},
   "outputs": [],
   "source": [
    "# print(\"Gender unique values : \",df['Gender'].unique())\n",
    "# print(\"Married unique values : \",df['Married'].unique())\n",
    "# print(\"Dependents unique values : \",df['Dependents'].unique())\n",
    "# print(\"Self_Employed unique values : \",df['Self_Employed'].unique())\n",
    "# print(\"Credit_History unique values : \",df['Credit_History'].unique())\n",
    "# print(\"Education unique values : \",df['Education'].unique())"
   ]
  },
  {
   "cell_type": "code",
   "execution_count": 646,
   "id": "54ee8808",
   "metadata": {},
   "outputs": [],
   "source": [
    "# Splitting the dataset into train and test"
   ]
  },
  {
   "cell_type": "code",
   "execution_count": 668,
   "id": "00ace238",
   "metadata": {},
   "outputs": [],
   "source": [
    "# df = df.drop([\"Loan_ID\",\"ApplicantIncome\",\"CoapplicantIncome\",\"Log_ApplicantIncome\",\"LoanAmount\"],axis=1)"
   ]
  },
  {
   "cell_type": "code",
   "execution_count": 669,
   "id": "fd5b0afe",
   "metadata": {},
   "outputs": [],
   "source": [
    "# df"
   ]
  },
  {
   "cell_type": "code",
   "execution_count": 651,
   "id": "4708b894",
   "metadata": {},
   "outputs": [],
   "source": [
    "# x = df.drop([\"Loan_Status\"],axis=1)"
   ]
  },
  {
   "cell_type": "code",
   "execution_count": 658,
   "id": "2ae8e42c",
   "metadata": {},
   "outputs": [],
   "source": [
    "# y = df[\"Loan_Status\"]"
   ]
  },
  {
   "cell_type": "code",
   "execution_count": 659,
   "id": "a7a90e2c",
   "metadata": {},
   "outputs": [],
   "source": [
    "# x_train, x_test, y_train, y_test = train_test_split(x,y,test_size=0.2,random_state=7)"
   ]
  },
  {
   "cell_type": "code",
   "execution_count": 731,
   "id": "b584957b",
   "metadata": {},
   "outputs": [],
   "source": [
    "def load_data(path):\n",
    "    df = pd.read_csv(path)\n",
    "    return df"
   ]
  },
  {
   "cell_type": "code",
   "execution_count": 795,
   "id": "bed1cc31",
   "metadata": {},
   "outputs": [],
   "source": [
    "path = \"D:/Projects/Loan_approval_classification/data/train_u6lujuX_CVtuZ9i.csv\"\n",
    "df = load_data(path)"
   ]
  },
  {
   "cell_type": "code",
   "execution_count": 724,
   "id": "6080a01c",
   "metadata": {},
   "outputs": [],
   "source": [
    "def term_group(term):\n",
    "    if term <= 60:\n",
    "        return 'Short'\n",
    "    elif term <= 180:\n",
    "        return 'Medium'\n",
    "    else:\n",
    "        return 'Long'"
   ]
  },
  {
   "cell_type": "code",
   "execution_count": 719,
   "id": "c13418d9",
   "metadata": {},
   "outputs": [],
   "source": [
    "def processing_null_data(df):\n",
    "    \n",
    "    df['Loan_Amount_Term'] = df['Loan_Amount_Term'].fillna(method='ffill')\n",
    "    df['Loan_Amount_Term'] = df['Loan_Amount_Term'].astype(int)\n",
    "    df['Loan_Amount_Term'] = df['Loan_Amount_Term'].apply(term_group)\n",
    "\n",
    "    # replacing categorical variables with mode of the column and numerical with the mean\n",
    "    gender_mode = df['Gender'].mode()[0]\n",
    "    Married_mode = df['Married'].mode()[0]\n",
    "    Dependents_mode = df['Dependents'].mode()[0]\n",
    "    Self_Employed_mode = df['Self_Employed'].mode()[0]\n",
    "    LoanAmount_mean = df['LoanAmount'].mean().round(2)\n",
    "    Credit_History_mean = df['Credit_History'].mean().round(2)\n",
    "\n",
    "    df['Gender'] = df['Gender'].fillna(gender_mode)\n",
    "    df['Married'] = df['Married'].fillna(Married_mode)\n",
    "    df['Dependents'] = df['Dependents'].fillna(Dependents_mode)\n",
    "    df['Self_Employed'] = df['Self_Employed'].fillna(Self_Employed_mode)\n",
    "    df['LoanAmount'] = df['LoanAmount'].fillna(LoanAmount_mean)\n",
    "    df['Credit_History'] = df['Credit_History'].fillna(method='ffill')\n",
    "    \n",
    "    return df\n"
   ]
  },
  {
   "cell_type": "code",
   "execution_count": 797,
   "id": "6a85e00f",
   "metadata": {},
   "outputs": [],
   "source": [
    "df = processing_null_data(df)"
   ]
  },
  {
   "cell_type": "code",
   "execution_count": 736,
   "id": "20d3035d",
   "metadata": {},
   "outputs": [
    {
     "name": "stdout",
     "output_type": "stream",
     "text": [
      "<class 'pandas.core.frame.DataFrame'>\n",
      "RangeIndex: 614 entries, 0 to 613\n",
      "Data columns (total 13 columns):\n",
      " #   Column             Non-Null Count  Dtype  \n",
      "---  ------             --------------  -----  \n",
      " 0   Loan_ID            614 non-null    object \n",
      " 1   Gender             614 non-null    object \n",
      " 2   Married            614 non-null    object \n",
      " 3   Dependents         614 non-null    object \n",
      " 4   Education          614 non-null    object \n",
      " 5   Self_Employed      614 non-null    object \n",
      " 6   ApplicantIncome    614 non-null    float64\n",
      " 7   CoapplicantIncome  614 non-null    float64\n",
      " 8   LoanAmount         614 non-null    float64\n",
      " 9   Loan_Amount_Term   614 non-null    object \n",
      " 10  Credit_History     614 non-null    float64\n",
      " 11  Property_Area      614 non-null    object \n",
      " 12  Loan_Status        614 non-null    object \n",
      "dtypes: float64(4), object(9)\n",
      "memory usage: 62.5+ KB\n"
     ]
    }
   ],
   "source": [
    "df.info()"
   ]
  },
  {
   "cell_type": "code",
   "execution_count": 728,
   "id": "9b1d886f",
   "metadata": {},
   "outputs": [],
   "source": [
    "def scale_down(df):\n",
    "    \n",
    "    # Fixing the data distributions\n",
    "    df['LoanAmount'] = np.log1p(df['LoanAmount'])\n",
    "    \n",
    "    # Engineering new scaled down feature to prevent hallucination\n",
    "    scaler = StandardScaler()\n",
    "    df['ApplicantIncome'] = np.log1p(df['ApplicantIncome'])\n",
    "    df['ApplicantIncome'] = scaler.fit_transform(df[['ApplicantIncome']])\n",
    "    \n",
    "    return df"
   ]
  },
  {
   "cell_type": "code",
   "execution_count": 796,
   "id": "7ca7316d",
   "metadata": {},
   "outputs": [],
   "source": [
    "df = scale_down(df)"
   ]
  },
  {
   "cell_type": "code",
   "execution_count": 734,
   "id": "fdf49350",
   "metadata": {},
   "outputs": [
    {
     "data": {
      "text/html": [
       "<div>\n",
       "<style scoped>\n",
       "    .dataframe tbody tr th:only-of-type {\n",
       "        vertical-align: middle;\n",
       "    }\n",
       "\n",
       "    .dataframe tbody tr th {\n",
       "        vertical-align: top;\n",
       "    }\n",
       "\n",
       "    .dataframe thead th {\n",
       "        text-align: right;\n",
       "    }\n",
       "</style>\n",
       "<table border=\"1\" class=\"dataframe\">\n",
       "  <thead>\n",
       "    <tr style=\"text-align: right;\">\n",
       "      <th></th>\n",
       "      <th>Loan_ID</th>\n",
       "      <th>Gender</th>\n",
       "      <th>Married</th>\n",
       "      <th>Dependents</th>\n",
       "      <th>Education</th>\n",
       "      <th>Self_Employed</th>\n",
       "      <th>ApplicantIncome</th>\n",
       "      <th>CoapplicantIncome</th>\n",
       "      <th>LoanAmount</th>\n",
       "      <th>Loan_Amount_Term</th>\n",
       "      <th>Credit_History</th>\n",
       "      <th>Property_Area</th>\n",
       "      <th>Loan_Status</th>\n",
       "    </tr>\n",
       "  </thead>\n",
       "  <tbody>\n",
       "    <tr>\n",
       "      <th>0</th>\n",
       "      <td>LP001002</td>\n",
       "      <td>Male</td>\n",
       "      <td>No</td>\n",
       "      <td>0</td>\n",
       "      <td>Graduate</td>\n",
       "      <td>No</td>\n",
       "      <td>0.516186</td>\n",
       "      <td>0.0</td>\n",
       "      <td>NaN</td>\n",
       "      <td>360.0</td>\n",
       "      <td>1.0</td>\n",
       "      <td>Urban</td>\n",
       "      <td>Y</td>\n",
       "    </tr>\n",
       "    <tr>\n",
       "      <th>1</th>\n",
       "      <td>LP001003</td>\n",
       "      <td>Male</td>\n",
       "      <td>Yes</td>\n",
       "      <td>1</td>\n",
       "      <td>Graduate</td>\n",
       "      <td>No</td>\n",
       "      <td>0.137806</td>\n",
       "      <td>1508.0</td>\n",
       "      <td>4.859812</td>\n",
       "      <td>360.0</td>\n",
       "      <td>1.0</td>\n",
       "      <td>Rural</td>\n",
       "      <td>N</td>\n",
       "    </tr>\n",
       "    <tr>\n",
       "      <th>2</th>\n",
       "      <td>LP001005</td>\n",
       "      <td>Male</td>\n",
       "      <td>Yes</td>\n",
       "      <td>0</td>\n",
       "      <td>Graduate</td>\n",
       "      <td>Yes</td>\n",
       "      <td>-0.519479</td>\n",
       "      <td>0.0</td>\n",
       "      <td>4.204693</td>\n",
       "      <td>360.0</td>\n",
       "      <td>1.0</td>\n",
       "      <td>Urban</td>\n",
       "      <td>Y</td>\n",
       "    </tr>\n",
       "    <tr>\n",
       "      <th>3</th>\n",
       "      <td>LP001006</td>\n",
       "      <td>Male</td>\n",
       "      <td>Yes</td>\n",
       "      <td>0</td>\n",
       "      <td>Not Graduate</td>\n",
       "      <td>No</td>\n",
       "      <td>-0.751605</td>\n",
       "      <td>2358.0</td>\n",
       "      <td>4.795791</td>\n",
       "      <td>360.0</td>\n",
       "      <td>1.0</td>\n",
       "      <td>Urban</td>\n",
       "      <td>Y</td>\n",
       "    </tr>\n",
       "    <tr>\n",
       "      <th>4</th>\n",
       "      <td>LP001008</td>\n",
       "      <td>Male</td>\n",
       "      <td>No</td>\n",
       "      <td>0</td>\n",
       "      <td>Graduate</td>\n",
       "      <td>No</td>\n",
       "      <td>0.555727</td>\n",
       "      <td>0.0</td>\n",
       "      <td>4.955827</td>\n",
       "      <td>360.0</td>\n",
       "      <td>1.0</td>\n",
       "      <td>Urban</td>\n",
       "      <td>Y</td>\n",
       "    </tr>\n",
       "    <tr>\n",
       "      <th>...</th>\n",
       "      <td>...</td>\n",
       "      <td>...</td>\n",
       "      <td>...</td>\n",
       "      <td>...</td>\n",
       "      <td>...</td>\n",
       "      <td>...</td>\n",
       "      <td>...</td>\n",
       "      <td>...</td>\n",
       "      <td>...</td>\n",
       "      <td>...</td>\n",
       "      <td>...</td>\n",
       "      <td>...</td>\n",
       "      <td>...</td>\n",
       "    </tr>\n",
       "    <tr>\n",
       "      <th>609</th>\n",
       "      <td>LP002978</td>\n",
       "      <td>Female</td>\n",
       "      <td>No</td>\n",
       "      <td>0</td>\n",
       "      <td>Graduate</td>\n",
       "      <td>No</td>\n",
       "      <td>-0.572062</td>\n",
       "      <td>0.0</td>\n",
       "      <td>4.276666</td>\n",
       "      <td>360.0</td>\n",
       "      <td>1.0</td>\n",
       "      <td>Rural</td>\n",
       "      <td>Y</td>\n",
       "    </tr>\n",
       "    <tr>\n",
       "      <th>610</th>\n",
       "      <td>LP002979</td>\n",
       "      <td>Male</td>\n",
       "      <td>Yes</td>\n",
       "      <td>3+</td>\n",
       "      <td>Graduate</td>\n",
       "      <td>No</td>\n",
       "      <td>-0.032679</td>\n",
       "      <td>0.0</td>\n",
       "      <td>3.713572</td>\n",
       "      <td>180.0</td>\n",
       "      <td>1.0</td>\n",
       "      <td>Rural</td>\n",
       "      <td>Y</td>\n",
       "    </tr>\n",
       "    <tr>\n",
       "      <th>611</th>\n",
       "      <td>LP002983</td>\n",
       "      <td>Male</td>\n",
       "      <td>Yes</td>\n",
       "      <td>1</td>\n",
       "      <td>Graduate</td>\n",
       "      <td>No</td>\n",
       "      <td>1.015921</td>\n",
       "      <td>240.0</td>\n",
       "      <td>5.537334</td>\n",
       "      <td>360.0</td>\n",
       "      <td>1.0</td>\n",
       "      <td>Urban</td>\n",
       "      <td>Y</td>\n",
       "    </tr>\n",
       "    <tr>\n",
       "      <th>612</th>\n",
       "      <td>LP002984</td>\n",
       "      <td>Male</td>\n",
       "      <td>Yes</td>\n",
       "      <td>2</td>\n",
       "      <td>Graduate</td>\n",
       "      <td>No</td>\n",
       "      <td>0.918972</td>\n",
       "      <td>0.0</td>\n",
       "      <td>5.236442</td>\n",
       "      <td>360.0</td>\n",
       "      <td>1.0</td>\n",
       "      <td>Urban</td>\n",
       "      <td>Y</td>\n",
       "    </tr>\n",
       "    <tr>\n",
       "      <th>613</th>\n",
       "      <td>LP002990</td>\n",
       "      <td>Female</td>\n",
       "      <td>No</td>\n",
       "      <td>0</td>\n",
       "      <td>Graduate</td>\n",
       "      <td>Yes</td>\n",
       "      <td>0.137806</td>\n",
       "      <td>0.0</td>\n",
       "      <td>4.897840</td>\n",
       "      <td>360.0</td>\n",
       "      <td>0.0</td>\n",
       "      <td>Semiurban</td>\n",
       "      <td>N</td>\n",
       "    </tr>\n",
       "  </tbody>\n",
       "</table>\n",
       "<p>614 rows × 13 columns</p>\n",
       "</div>"
      ],
      "text/plain": [
       "      Loan_ID  Gender Married Dependents     Education Self_Employed  \\\n",
       "0    LP001002    Male      No          0      Graduate            No   \n",
       "1    LP001003    Male     Yes          1      Graduate            No   \n",
       "2    LP001005    Male     Yes          0      Graduate           Yes   \n",
       "3    LP001006    Male     Yes          0  Not Graduate            No   \n",
       "4    LP001008    Male      No          0      Graduate            No   \n",
       "..        ...     ...     ...        ...           ...           ...   \n",
       "609  LP002978  Female      No          0      Graduate            No   \n",
       "610  LP002979    Male     Yes         3+      Graduate            No   \n",
       "611  LP002983    Male     Yes          1      Graduate            No   \n",
       "612  LP002984    Male     Yes          2      Graduate            No   \n",
       "613  LP002990  Female      No          0      Graduate           Yes   \n",
       "\n",
       "     ApplicantIncome  CoapplicantIncome  LoanAmount  Loan_Amount_Term  \\\n",
       "0           0.516186                0.0         NaN             360.0   \n",
       "1           0.137806             1508.0    4.859812             360.0   \n",
       "2          -0.519479                0.0    4.204693             360.0   \n",
       "3          -0.751605             2358.0    4.795791             360.0   \n",
       "4           0.555727                0.0    4.955827             360.0   \n",
       "..               ...                ...         ...               ...   \n",
       "609        -0.572062                0.0    4.276666             360.0   \n",
       "610        -0.032679                0.0    3.713572             180.0   \n",
       "611         1.015921              240.0    5.537334             360.0   \n",
       "612         0.918972                0.0    5.236442             360.0   \n",
       "613         0.137806                0.0    4.897840             360.0   \n",
       "\n",
       "     Credit_History Property_Area Loan_Status  \n",
       "0               1.0         Urban           Y  \n",
       "1               1.0         Rural           N  \n",
       "2               1.0         Urban           Y  \n",
       "3               1.0         Urban           Y  \n",
       "4               1.0         Urban           Y  \n",
       "..              ...           ...         ...  \n",
       "609             1.0         Rural           Y  \n",
       "610             1.0         Rural           Y  \n",
       "611             1.0         Urban           Y  \n",
       "612             1.0         Urban           Y  \n",
       "613             0.0     Semiurban           N  \n",
       "\n",
       "[614 rows x 13 columns]"
      ]
     },
     "execution_count": 734,
     "metadata": {},
     "output_type": "execute_result"
    }
   ],
   "source": [
    "df"
   ]
  },
  {
   "cell_type": "code",
   "execution_count": 738,
   "id": "ba1768fd",
   "metadata": {},
   "outputs": [],
   "source": [
    "def pre_processing(df):\n",
    "    \n",
    "    print(\"------- Unique values before encoding -------\")\n",
    "    print(\"Gender unique values : \",df['Gender'].unique())\n",
    "    print(\"Married unique values : \",df['Married'].unique())\n",
    "    print(\"Dependents unique values : \",df['Dependents'].unique())\n",
    "    print(\"Self_Employed unique values : \",df['Self_Employed'].unique())\n",
    "    # print(\"LoanAmount unique values : \",df['LoanAmount'].unique())\n",
    "    print(\"Loan_Amount_Term unique values : \",df['Loan_Amount_Term'].unique())\n",
    "    print(\"Credit_History unique values : \",df['Credit_History'].unique())\n",
    "    print(\"Education unique values : \",df['Education'].unique())\n",
    "    print(\"Property_Area unique values : \",df['Property_Area'].unique())\n",
    "\n",
    "    # label encoding\n",
    "    df['Loan_Status'] = df['Loan_Status'].replace({\"N\":0,\"Y\":1})\n",
    "    df['Dependents'] = df['Dependents'].replace({\"0\":0,\"1\":1,\"2\":2,\"3+\":3})\n",
    "    df['Married'] = df['Married'].replace({\"No\":0,\"Yes\":1})\n",
    "    df['Gender'] = df['Gender'].replace({\"Female\":0,\"Male\":1})\n",
    "    df['Self_Employed'] = df['Self_Employed'].replace({\"No\":0,\"Yes\":1})\n",
    "    df['Education'] = df['Education'].replace({\"Not Graduate\":0,\"Graduate\":1})\n",
    "    \n",
    "    df['Credit_History'] = df['Credit_History'].astype(int)\n",
    "\n",
    "    # One hot encoding\n",
    "    df = pd.get_dummies(df, columns=['Property_Area'])\n",
    "    df = pd.get_dummies(df, columns=['Loan_Amount_Term'])\n",
    "    \n",
    "    print(\"------- Unique values Post encoding -------\")\n",
    "    print(\"Gender unique values : \",df['Gender'].unique())\n",
    "    print(\"Married unique values : \",df['Married'].unique())\n",
    "    print(\"Dependents unique values : \",df['Dependents'].unique())\n",
    "    print(\"Self_Employed unique values : \",df['Self_Employed'].unique())\n",
    "    print(\"Credit_History unique values : \",df['Credit_History'].unique())\n",
    "    print(\"Education unique values : \",df['Education'].unique())\n",
    "\n",
    "    df = df.drop([\"Loan_ID\",\"CoapplicantIncome\"],axis=1)\n",
    "    \n",
    "    return df"
   ]
  },
  {
   "cell_type": "code",
   "execution_count": 798,
   "id": "6393e28a",
   "metadata": {},
   "outputs": [
    {
     "name": "stdout",
     "output_type": "stream",
     "text": [
      "------- Unique values before encoding -------\n",
      "Gender unique values :  ['Male' 'Female']\n",
      "Married unique values :  ['No' 'Yes']\n",
      "Dependents unique values :  ['0' '1' '2' '3+']\n",
      "Self_Employed unique values :  ['No' 'Yes']\n",
      "Loan_Amount_Term unique values :  ['Long' 'Medium' 'Short']\n",
      "Credit_History unique values :  [1. 0.]\n",
      "Education unique values :  ['Graduate' 'Not Graduate']\n",
      "Property_Area unique values :  ['Urban' 'Rural' 'Semiurban']\n",
      "------- Unique values Post encoding -------\n",
      "Gender unique values :  [1 0]\n",
      "Married unique values :  [0 1]\n",
      "Dependents unique values :  [0 1 2 3]\n",
      "Self_Employed unique values :  [0 1]\n",
      "Credit_History unique values :  [1 0]\n",
      "Education unique values :  [1 0]\n"
     ]
    }
   ],
   "source": [
    "df = pre_processing(df)"
   ]
  },
  {
   "cell_type": "code",
   "execution_count": null,
   "id": "65c37096",
   "metadata": {},
   "outputs": [],
   "source": []
  },
  {
   "cell_type": "code",
   "execution_count": 813,
   "id": "5fbb7d22",
   "metadata": {},
   "outputs": [],
   "source": [
    "def data_split(df):\n",
    "    x = df.drop([\"Loan_Status\"],axis=1)\n",
    "    y = df[\"Loan_Status\"]\n",
    "   \n",
    "    sm = SMOTE(random_state=42)\n",
    "    X_resampled, y_resampled = sm.fit_resample(x, y)  # Apply SMOTE to balance the classes\n",
    "    print(y_resampled.value_counts())\n",
    "    x_train, x_test, y_train, y_test = train_test_split(X_resampled,y_resampled,test_size=0.2,random_state=7, stratify=y_resampled)\n",
    "    return x_train, x_test, y_train, y_test"
   ]
  },
  {
   "cell_type": "code",
   "execution_count": 814,
   "id": "cb0e579f",
   "metadata": {},
   "outputs": [
    {
     "name": "stdout",
     "output_type": "stream",
     "text": [
      "1    422\n",
      "0    422\n",
      "Name: Loan_Status, dtype: int64\n"
     ]
    }
   ],
   "source": [
    "x_train, x_test, y_train, y_test = data_split(df)"
   ]
  },
  {
   "cell_type": "code",
   "execution_count": null,
   "id": "0bdc966d",
   "metadata": {},
   "outputs": [],
   "source": []
  },
  {
   "cell_type": "code",
   "execution_count": 747,
   "id": "3e8a685d",
   "metadata": {},
   "outputs": [],
   "source": [
    "# Model Training"
   ]
  },
  {
   "cell_type": "code",
   "execution_count": 815,
   "id": "d56e2d57",
   "metadata": {},
   "outputs": [],
   "source": [
    "def model_training(model):\n",
    "    \n",
    "    model.fit(x_train,y_train)\n",
    "    y_pred = model.predict(x_test)\n",
    "    accuracy = accuracy_score(y_pred,y_test)\n",
    "    recall = recall_score(y_pred,y_test)\n",
    "    precision = precision_score(y_pred,y_test)\n",
    "    f1_score_value = f1_score(y_pred,y_test)\n",
    "    print(\"Accuracy : \",accuracy)\n",
    "    print(\"recall : \",recall)\n",
    "    print(\"precision : \",precision)\n",
    "    print(\"f1_score : \",f1_score_value)\n",
    "    \n",
    "    \n",
    "    "
   ]
  },
  {
   "cell_type": "code",
   "execution_count": 816,
   "id": "c5221ad5",
   "metadata": {},
   "outputs": [
    {
     "name": "stdout",
     "output_type": "stream",
     "text": [
      "Accuracy :  0.7751479289940828\n",
      "recall :  0.7008547008547008\n",
      "precision :  0.9647058823529412\n",
      "f1_score :  0.8118811881188118\n"
     ]
    }
   ],
   "source": [
    "#Logistic Regression Exp\n",
    "model = LogisticRegression()\n",
    "model_training(model)"
   ]
  },
  {
   "cell_type": "code",
   "execution_count": 817,
   "id": "18655137",
   "metadata": {},
   "outputs": [
    {
     "name": "stdout",
     "output_type": "stream",
     "text": [
      "Accuracy :  0.757396449704142\n",
      "recall :  0.7682926829268293\n",
      "precision :  0.7411764705882353\n",
      "f1_score :  0.7544910179640718\n"
     ]
    }
   ],
   "source": [
    "#Decision Tree Exp\n",
    "model = DecisionTreeClassifier()\n",
    "model_training(model)"
   ]
  },
  {
   "cell_type": "code",
   "execution_count": 818,
   "id": "2fabadef",
   "metadata": {},
   "outputs": [
    {
     "name": "stdout",
     "output_type": "stream",
     "text": [
      "Accuracy :  0.8224852071005917\n",
      "recall :  0.7956989247311828\n",
      "precision :  0.8705882352941177\n",
      "f1_score :  0.8314606741573034\n"
     ]
    }
   ],
   "source": [
    "#Random Forest Exp\n",
    "model = RandomForestClassifier()\n",
    "model_training(model)"
   ]
  },
  {
   "cell_type": "code",
   "execution_count": 819,
   "id": "5012a920",
   "metadata": {},
   "outputs": [
    {
     "name": "stdout",
     "output_type": "stream",
     "text": [
      "Accuracy :  0.7337278106508875\n",
      "recall :  0.6612903225806451\n",
      "precision :  0.9647058823529412\n",
      "f1_score :  0.784688995215311\n"
     ]
    }
   ],
   "source": [
    "#SVM Exp\n",
    "model = SVC()\n",
    "model_training(model)"
   ]
  },
  {
   "cell_type": "code",
   "execution_count": null,
   "id": "34db7eb8",
   "metadata": {},
   "outputs": [],
   "source": []
  },
  {
   "cell_type": "code",
   "execution_count": null,
   "id": "8c2c443d",
   "metadata": {},
   "outputs": [],
   "source": [
    "# pipeline\n"
   ]
  }
 ],
 "metadata": {
  "kernelspec": {
   "display_name": "Python 3 (ipykernel)",
   "language": "python",
   "name": "python3"
  },
  "language_info": {
   "codemirror_mode": {
    "name": "ipython",
    "version": 3
   },
   "file_extension": ".py",
   "mimetype": "text/x-python",
   "name": "python",
   "nbconvert_exporter": "python",
   "pygments_lexer": "ipython3",
   "version": "3.11.3"
  }
 },
 "nbformat": 4,
 "nbformat_minor": 5
}
